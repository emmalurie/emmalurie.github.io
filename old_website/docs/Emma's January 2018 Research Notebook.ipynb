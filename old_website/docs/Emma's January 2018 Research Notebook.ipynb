{
 "cells": [
  {
   "cell_type": "markdown",
   "metadata": {
    "deletable": true,
    "editable": true
   },
   "source": [
    "# Emma's Februrary 2018 Research Notebook "
   ]
  },
  {
   "cell_type": "markdown",
   "metadata": {
    "deletable": true,
    "editable": true
   },
   "source": [
    "* locally download webpages using selenium\n",
    "* use beautiful soup to identify Knowledge Panels and Top Stories \n",
    "* compare results with Jan 2018 results"
   ]
  },
  {
   "cell_type": "markdown",
   "metadata": {
    "deletable": true,
    "editable": true
   },
   "source": [
    "### This notebook works on scraping data off of Google's SERP (search engine result page). I am particularly interested in the Knowledge Panel (1).  This notebook gets data from a spreadsheet of 7269 local news sites (2) Sends a selenium driver instance to download the SERP for each query (3)Uses Beautiful Soup to analyze the SERP for key elements (4) Stores results in a csv file (5) compares February results with January results"
   ]
  },
  {
   "cell_type": "code",
   "execution_count": 11,
   "metadata": {
    "collapsed": false,
    "deletable": true,
    "editable": true
   },
   "outputs": [
    {
     "data": {
      "text/html": [
       "<img src=\"sample kp.png\"/>"
      ],
      "text/plain": [
       "<IPython.core.display.Image object>"
      ]
     },
     "execution_count": 11,
     "metadata": {},
     "output_type": "execute_result"
    }
   ],
   "source": [
    "from IPython.display import Image\n",
    "from IPython.core.display import HTML \n",
    "Image(url= \"sample kp.png\")"
   ]
  },
  {
   "cell_type": "markdown",
   "metadata": {
    "deletable": true,
    "editable": true
   },
   "source": [
    "#### Libraries"
   ]
  },
  {
   "cell_type": "markdown",
   "metadata": {
    "deletable": true,
    "editable": true
   },
   "source": [
    "To install selenium on your computer follow these instructions: http://selenium-python.readthedocs.io/installation.html"
   ]
  },
  {
   "cell_type": "code",
   "execution_count": 2,
   "metadata": {
    "collapsed": true,
    "deletable": true,
    "editable": true
   },
   "outputs": [],
   "source": [
    "from selenium import webdriver\n",
    "import pandas as pd\n",
    "from selenium.common.exceptions import InvalidElementStateException\n",
    "import time\n"
   ]
  },
  {
   "cell_type": "markdown",
   "metadata": {
    "deletable": true,
    "editable": true
   },
   "source": [
    "## Download Sites Locally"
   ]
  },
  {
   "cell_type": "markdown",
   "metadata": {
    "deletable": true,
    "editable": true
   },
   "source": [
    "Using a pandas dataframe, read the spreadsheet of local news sites"
   ]
  },
  {
   "cell_type": "code",
   "execution_count": 2,
   "metadata": {
    "collapsed": true,
    "deletable": true,
    "editable": true
   },
   "outputs": [],
   "source": [
    "usnpl_df = pd.read_excel('news_sites_usnpl.xlsx')"
   ]
  },
  {
   "cell_type": "code",
   "execution_count": 3,
   "metadata": {
    "collapsed": false,
    "deletable": true,
    "editable": true
   },
   "outputs": [
    {
     "data": {
      "text/html": [
       "<div>\n",
       "<style>\n",
       "    .dataframe thead tr:only-child th {\n",
       "        text-align: right;\n",
       "    }\n",
       "\n",
       "    .dataframe thead th {\n",
       "        text-align: left;\n",
       "    }\n",
       "\n",
       "    .dataframe tbody tr th {\n",
       "        vertical-align: top;\n",
       "    }\n",
       "</style>\n",
       "<table border=\"1\" class=\"dataframe\">\n",
       "  <thead>\n",
       "    <tr style=\"text-align: right;\">\n",
       "      <th></th>\n",
       "      <th>sites</th>\n",
       "      <th>urls</th>\n",
       "    </tr>\n",
       "  </thead>\n",
       "  <tbody>\n",
       "    <tr>\n",
       "      <th>0</th>\n",
       "      <td>Sand Mountain Reporter</td>\n",
       "      <td>http://www.sandmountainreporter.com/</td>\n",
       "    </tr>\n",
       "    <tr>\n",
       "      <th>1</th>\n",
       "      <td>Alexander City Outlook</td>\n",
       "      <td>http://www.alexcityoutlook.com/</td>\n",
       "    </tr>\n",
       "    <tr>\n",
       "      <th>2</th>\n",
       "      <td>Andalusia Star-News</td>\n",
       "      <td>http://www.andalusiastarnews.com/</td>\n",
       "    </tr>\n",
       "    <tr>\n",
       "      <th>3</th>\n",
       "      <td>Anniston Star</td>\n",
       "      <td>http://www.annistonstar.com/</td>\n",
       "    </tr>\n",
       "    <tr>\n",
       "      <th>4</th>\n",
       "      <td>Arab Tribune</td>\n",
       "      <td>http://www.thearabtribune.com/</td>\n",
       "    </tr>\n",
       "  </tbody>\n",
       "</table>\n",
       "</div>"
      ],
      "text/plain": [
       "                    sites                                  urls\n",
       "0  Sand Mountain Reporter  http://www.sandmountainreporter.com/\n",
       "1  Alexander City Outlook       http://www.alexcityoutlook.com/\n",
       "2     Andalusia Star-News     http://www.andalusiastarnews.com/\n",
       "3           Anniston Star          http://www.annistonstar.com/\n",
       "4            Arab Tribune        http://www.thearabtribune.com/"
      ]
     },
     "execution_count": 3,
     "metadata": {},
     "output_type": "execute_result"
    }
   ],
   "source": [
    "usnpl_df.head()"
   ]
  },
  {
   "cell_type": "markdown",
   "metadata": {
    "deletable": true,
    "editable": true
   },
   "source": [
    "Create a list of the sites "
   ]
  },
  {
   "cell_type": "code",
   "execution_count": 4,
   "metadata": {
    "collapsed": false,
    "deletable": true,
    "editable": true
   },
   "outputs": [],
   "source": [
    "sites = list(usnpl_df['sites'])"
   ]
  },
  {
   "cell_type": "markdown",
   "metadata": {
    "deletable": true,
    "editable": true
   },
   "source": [
    "### Selenium Download"
   ]
  },
  {
   "cell_type": "markdown",
   "metadata": {
    "deletable": true,
    "editable": true
   },
   "source": [
    "* on my computer it takes about 3 min to download 100 sites\n"
   ]
  },
  {
   "cell_type": "code",
   "execution_count": 5,
   "metadata": {
    "collapsed": true,
    "deletable": true,
    "editable": true
   },
   "outputs": [],
   "source": [
    "done = False\n",
    "i = 3280"
   ]
  },
  {
   "cell_type": "code",
   "execution_count": 8,
   "metadata": {
    "collapsed": false,
    "deletable": true,
    "editable": true
   },
   "outputs": [
    {
     "name": "stdout",
     "output_type": "stream",
     "text": [
      " 5900 6000 6100 6200 6300 6400 6500 6600 6700 6800 6900 7000 7100 7200\n"
     ]
    }
   ],
   "source": [
    "driver = webdriver.Chrome() #make sure you either specify a path or have the chromedriver \n",
    "driver.get('http://www.google.com/xhtml')\n",
    "\n",
    "while not done: \n",
    "    try: \n",
    "        time.sleep(0.1) #should change to implicit loading\n",
    "        \n",
    "        search_box = driver.find_element_by_name('q')\n",
    "        search_box.clear()\n",
    "        search_box.send_keys(sites[i]) #search for query\n",
    "        search_box.submit() \n",
    "        \n",
    "        with open('feb_results/'+ str(i) + '_' + sites[i].replace('/', ' ') + '.html', 'w') as f: #replace is used b/c 1+ local news site has a / in its name\n",
    "            f.write(driver.page_source.encode('ascii', 'ignore').decode('ascii'))\n",
    "        i+=1\n",
    "        \n",
    "        if i % 100 == 0: #tracker for your own sanity of how much progress you have made\n",
    "            print i,\n",
    "            \n",
    "        if i == len(sites): #is len(sites) b/c increment before this line of code\n",
    "            done = True\n",
    "        \n",
    " \n",
    "        \n",
    "    except InvalidElementStateException:\n",
    "        #restart driver instance only when Google requires captcha\n",
    "        driver = webdriver.Chrome()\n",
    "        driver.get('http://www.google.com/xhtml')\n",
    "        print i,"
   ]
  },
  {
   "cell_type": "markdown",
   "metadata": {
    "deletable": true,
    "editable": true
   },
   "source": [
    "### Analyze locally stored results"
   ]
  },
  {
   "cell_type": "code",
   "execution_count": 190,
   "metadata": {
    "collapsed": false,
    "deletable": true,
    "editable": true
   },
   "outputs": [],
   "source": [
    "from bs4 import BeautifulSoup\n",
    "import os\n",
    "from collections import Counter\n",
    "import difflib \n",
    "import re"
   ]
  },
  {
   "cell_type": "code",
   "execution_count": 203,
   "metadata": {
    "collapsed": false,
    "deletable": true,
    "editable": true
   },
   "outputs": [],
   "source": [
    "local_results = os.listdir('feb_usnpl_results')"
   ]
  },
  {
   "cell_type": "code",
   "execution_count": 213,
   "metadata": {
    "collapsed": false,
    "deletable": true,
    "editable": true
   },
   "outputs": [
    {
     "name": "stdout",
     "output_type": "stream",
     "text": [
      "100 200 300 400 500 600 700 800 900 1000 1100 1200 1300 1400 1500 1600 1700 1800 1900 2000 2100 2200 2300 2400 2500 2600 2700 2800 2900 3000 3100 3200 3300 3400 3500 3600 3700 3800 3900 4000 4100 4200 4300 4400 4500 4600 4700 4800 4900 5000 5100 5200 5300 5400 5500 5600 5700 5800 5900 6000 6100 6200 6300 6400 6500 6600 6700 6800 6900 7000 7100 7200\n"
     ]
    }
   ],
   "source": [
    "results = []\n",
    "i = 0\n",
    "for site in local_results:\n",
    "    soup = BeautifulSoup(open('feb_usnpl_results/' + site, \"r\"), 'html.parser')\n",
    "    kp = soup.find_all(\"div\",  class_=\"knowledge-panel\")\n",
    "    for script in soup([\"script\", \"style\"]):\n",
    "        script.extract()    # rip it out\n",
    "    \n",
    "    site_name = ' '.join(site.replace('.html', '').split('_')[1:])\n",
    "        #site_name = ''.join(filter(None,re.split('(\\d+)', site.replace('.html','')))[:-1])\n",
    "    if len(kp) != 0:\n",
    "        #print len(kp)\n",
    "        heading = kp[0].find(\"div\", class_=\"_Q1n\")\n",
    "            #in Feb 2018, the 'Olympia' returns this funky result about the Olympics without a heading\n",
    "        if heading and difflib.get_close_matches(site_name, [heading.find(\"span\").text],\n",
    "                                                              cutoff = 0.7):\n",
    "            kp_bool = True\n",
    "            kp = kp[0]\n",
    "            writes_about = False\n",
    "\n",
    "            tab_list = kp.find(\"div\", class_=\"_knw\")\n",
    "            if tab_list: \n",
    "                tab_list = tab_list.find_all(\"span\") #lits of spans including writes about, reviewed claims, awards\n",
    "            else: \n",
    "                tab_list = []\n",
    "            other_topic_write_about_format = kp.find_all(\"div\", class_= '_Obi')\n",
    "            alternate_description = False\n",
    "            if  any(\"Writes about\" in x for x in tab_list) or any(\"write about\" in x.text for x in other_topic_write_about_format):\n",
    "                if  any(\"write about\" in x.text for x in other_topic_write_about_format): \n",
    "                    alternate_description = True\n",
    "                writes_about = True\n",
    "                #topics = [topic.text for topic in kp.find_all(\"div\", class_= \"_Uut\")]\n",
    "\n",
    "            awards = False\n",
    "            if  any(\"Awards\" in x for x in tab_list):\n",
    "                awards = True\n",
    "\n",
    "            reviewed_claims = False\n",
    "            if  any(\"Reviewed claims\" in x for x in tab_list):\n",
    "                reviewed_claims = True\n",
    "            wikipedia = 'Wikipedia' in kp.text\n",
    "        \n",
    "        else: \n",
    "            kp_bool = False\n",
    "            writes_about = False\n",
    "            awards = False\n",
    "            wikipedia = False\n",
    "            reviewed_claims = False\n",
    "            alternate_description = False\n",
    "        \n",
    "    else:\n",
    "        kp_bool = False\n",
    "        writes_about = False\n",
    "        awards = False\n",
    "        wikipedia = False\n",
    "        reviewed_claims = False\n",
    "        alternate_description = False\n",
    "        \n",
    "    top_stories_list = soup.find_all(\"h3\", class_='_MRj') #the location of top stories if it exists\n",
    "    top_stories = bool(len(top_stories_list))\n",
    "    \n",
    "    results.append([kp_bool, site_name, writes_about, awards, reviewed_claims, wikipedia, top_stories])\n",
    "        \n",
    "    i+=1\n",
    "    if i %100 == 0:\n",
    "        print i,"
   ]
  },
  {
   "cell_type": "code",
   "execution_count": 214,
   "metadata": {
    "collapsed": false,
    "deletable": true,
    "editable": true
   },
   "outputs": [],
   "source": [
    "df = pd.DataFrame(results, columns= ['Knowledge Panel', 'Site name', 'WritesAbout',\n",
    "                           'Awards', 'ReviewedClaims', 'Wikipedia', 'Top Stories'])"
   ]
  },
  {
   "cell_type": "code",
   "execution_count": 216,
   "metadata": {
    "collapsed": false,
    "deletable": true,
    "editable": true
   },
   "outputs": [
    {
     "data": {
      "text/html": [
       "<div>\n",
       "<style>\n",
       "    .dataframe thead tr:only-child th {\n",
       "        text-align: right;\n",
       "    }\n",
       "\n",
       "    .dataframe thead th {\n",
       "        text-align: left;\n",
       "    }\n",
       "\n",
       "    .dataframe tbody tr th {\n",
       "        vertical-align: top;\n",
       "    }\n",
       "</style>\n",
       "<table border=\"1\" class=\"dataframe\">\n",
       "  <thead>\n",
       "    <tr style=\"text-align: right;\">\n",
       "      <th></th>\n",
       "      <th>Knowledge Panel</th>\n",
       "      <th>Site name</th>\n",
       "      <th>WritesAbout</th>\n",
       "      <th>Awards</th>\n",
       "      <th>ReviewedClaims</th>\n",
       "      <th>Wikipedia</th>\n",
       "      <th>Top Stories</th>\n",
       "    </tr>\n",
       "  </thead>\n",
       "  <tbody>\n",
       "    <tr>\n",
       "      <th>0</th>\n",
       "      <td>False</td>\n",
       "      <td>Sand Mountain Reporter</td>\n",
       "      <td>False</td>\n",
       "      <td>False</td>\n",
       "      <td>False</td>\n",
       "      <td>False</td>\n",
       "      <td>True</td>\n",
       "    </tr>\n",
       "    <tr>\n",
       "      <th>1</th>\n",
       "      <td>False</td>\n",
       "      <td>Montrose Daily Press</td>\n",
       "      <td>False</td>\n",
       "      <td>False</td>\n",
       "      <td>False</td>\n",
       "      <td>False</td>\n",
       "      <td>True</td>\n",
       "    </tr>\n",
       "    <tr>\n",
       "      <th>2</th>\n",
       "      <td>False</td>\n",
       "      <td>Tri Lakes Tribune</td>\n",
       "      <td>False</td>\n",
       "      <td>False</td>\n",
       "      <td>False</td>\n",
       "      <td>False</td>\n",
       "      <td>False</td>\n",
       "    </tr>\n",
       "    <tr>\n",
       "      <th>3</th>\n",
       "      <td>True</td>\n",
       "      <td>Nederland Mountain-Ear</td>\n",
       "      <td>False</td>\n",
       "      <td>False</td>\n",
       "      <td>False</td>\n",
       "      <td>False</td>\n",
       "      <td>False</td>\n",
       "    </tr>\n",
       "    <tr>\n",
       "      <th>4</th>\n",
       "      <td>False</td>\n",
       "      <td>Left Hand Valley Courier</td>\n",
       "      <td>False</td>\n",
       "      <td>False</td>\n",
       "      <td>False</td>\n",
       "      <td>False</td>\n",
       "      <td>False</td>\n",
       "    </tr>\n",
       "    <tr>\n",
       "      <th>5</th>\n",
       "      <td>False</td>\n",
       "      <td>Norwood Post</td>\n",
       "      <td>False</td>\n",
       "      <td>False</td>\n",
       "      <td>False</td>\n",
       "      <td>False</td>\n",
       "      <td>False</td>\n",
       "    </tr>\n",
       "    <tr>\n",
       "      <th>6</th>\n",
       "      <td>False</td>\n",
       "      <td>Sunshine Express</td>\n",
       "      <td>False</td>\n",
       "      <td>False</td>\n",
       "      <td>False</td>\n",
       "      <td>False</td>\n",
       "      <td>False</td>\n",
       "    </tr>\n",
       "    <tr>\n",
       "      <th>7</th>\n",
       "      <td>True</td>\n",
       "      <td>Plaindealer</td>\n",
       "      <td>False</td>\n",
       "      <td>False</td>\n",
       "      <td>False</td>\n",
       "      <td>True</td>\n",
       "      <td>False</td>\n",
       "    </tr>\n",
       "    <tr>\n",
       "      <th>8</th>\n",
       "      <td>True</td>\n",
       "      <td>Pagosa Springs Daily Post</td>\n",
       "      <td>False</td>\n",
       "      <td>False</td>\n",
       "      <td>False</td>\n",
       "      <td>False</td>\n",
       "      <td>False</td>\n",
       "    </tr>\n",
       "    <tr>\n",
       "      <th>9</th>\n",
       "      <td>False</td>\n",
       "      <td>Pagosa Springs Sun</td>\n",
       "      <td>False</td>\n",
       "      <td>False</td>\n",
       "      <td>False</td>\n",
       "      <td>False</td>\n",
       "      <td>True</td>\n",
       "    </tr>\n",
       "  </tbody>\n",
       "</table>\n",
       "</div>"
      ],
      "text/plain": [
       "   Knowledge Panel                  Site name  WritesAbout  Awards  \\\n",
       "0            False     Sand Mountain Reporter        False   False   \n",
       "1            False       Montrose Daily Press        False   False   \n",
       "2            False          Tri Lakes Tribune        False   False   \n",
       "3             True     Nederland Mountain-Ear        False   False   \n",
       "4            False   Left Hand Valley Courier        False   False   \n",
       "5            False               Norwood Post        False   False   \n",
       "6            False           Sunshine Express        False   False   \n",
       "7             True                Plaindealer        False   False   \n",
       "8             True  Pagosa Springs Daily Post        False   False   \n",
       "9            False         Pagosa Springs Sun        False   False   \n",
       "\n",
       "   ReviewedClaims  Wikipedia  Top Stories  \n",
       "0           False      False         True  \n",
       "1           False      False         True  \n",
       "2           False      False        False  \n",
       "3           False      False        False  \n",
       "4           False      False        False  \n",
       "5           False      False        False  \n",
       "6           False      False        False  \n",
       "7           False       True        False  \n",
       "8           False      False        False  \n",
       "9           False      False         True  "
      ]
     },
     "execution_count": 216,
     "metadata": {},
     "output_type": "execute_result"
    }
   ],
   "source": [
    "df.head(10)"
   ]
  },
  {
   "cell_type": "code",
   "execution_count": 215,
   "metadata": {
    "collapsed": false,
    "deletable": true,
    "editable": true
   },
   "outputs": [],
   "source": [
    "df.to_csv('feb_usnpl_results.csv')"
   ]
  },
  {
   "cell_type": "code",
   "execution_count": null,
   "metadata": {
    "collapsed": false,
    "deletable": true,
    "editable": true
   },
   "outputs": [],
   "source": [
    "Counter(df['WritesAbout'])"
   ]
  },
  {
   "cell_type": "code",
   "execution_count": null,
   "metadata": {
    "collapsed": false,
    "deletable": true,
    "editable": true
   },
   "outputs": [],
   "source": [
    "### Comparing January and Feb Results"
   ]
  },
  {
   "cell_type": "code",
   "execution_count": null,
   "metadata": {
    "collapsed": false,
    "deletable": true,
    "editable": true
   },
   "outputs": [],
   "source": [
    "jan_df = pd.read_csv('jan_usnpl_results.csv')\n",
    "feb_df = pd.read_csv('feb_usnpl_results.csv')"
   ]
  },
  {
   "cell_type": "code",
   "execution_count": 135,
   "metadata": {
    "collapsed": false,
    "deletable": true,
    "editable": true
   },
   "outputs": [
    {
     "data": {
      "text/html": [
       "<div>\n",
       "<style>\n",
       "    .dataframe thead tr:only-child th {\n",
       "        text-align: right;\n",
       "    }\n",
       "\n",
       "    .dataframe thead th {\n",
       "        text-align: left;\n",
       "    }\n",
       "\n",
       "    .dataframe tbody tr th {\n",
       "        vertical-align: top;\n",
       "    }\n",
       "</style>\n",
       "<table border=\"1\" class=\"dataframe\">\n",
       "  <thead>\n",
       "    <tr style=\"text-align: right;\">\n",
       "      <th></th>\n",
       "      <th>Unnamed: 0</th>\n",
       "      <th>Site name</th>\n",
       "      <th>Has Top Stories?</th>\n",
       "      <th>Has Knowledge Panel?</th>\n",
       "      <th>Label</th>\n",
       "      <th>Has Wikipedia?</th>\n",
       "      <th>Has Writes About?</th>\n",
       "      <th>Has Awards?</th>\n",
       "      <th>Has Reviewed Claims?</th>\n",
       "    </tr>\n",
       "  </thead>\n",
       "  <tbody>\n",
       "    <tr>\n",
       "      <th>0</th>\n",
       "      <td>0</td>\n",
       "      <td>27east.com</td>\n",
       "      <td>False</td>\n",
       "      <td>False</td>\n",
       "      <td>NaN</td>\n",
       "      <td>False</td>\n",
       "      <td>False</td>\n",
       "      <td>False</td>\n",
       "      <td>False</td>\n",
       "    </tr>\n",
       "    <tr>\n",
       "      <th>1</th>\n",
       "      <td>1</td>\n",
       "      <td>27east.com</td>\n",
       "      <td>False</td>\n",
       "      <td>False</td>\n",
       "      <td>NaN</td>\n",
       "      <td>False</td>\n",
       "      <td>False</td>\n",
       "      <td>False</td>\n",
       "      <td>False</td>\n",
       "    </tr>\n",
       "    <tr>\n",
       "      <th>2</th>\n",
       "      <td>2</td>\n",
       "      <td>27east.com</td>\n",
       "      <td>False</td>\n",
       "      <td>False</td>\n",
       "      <td>NaN</td>\n",
       "      <td>False</td>\n",
       "      <td>False</td>\n",
       "      <td>False</td>\n",
       "      <td>False</td>\n",
       "    </tr>\n",
       "    <tr>\n",
       "      <th>3</th>\n",
       "      <td>3</td>\n",
       "      <td>2HaveFunIn Minnesota</td>\n",
       "      <td>False</td>\n",
       "      <td>False</td>\n",
       "      <td>NaN</td>\n",
       "      <td>False</td>\n",
       "      <td>False</td>\n",
       "      <td>False</td>\n",
       "      <td>False</td>\n",
       "    </tr>\n",
       "    <tr>\n",
       "      <th>4</th>\n",
       "      <td>4</td>\n",
       "      <td>417 Magazine</td>\n",
       "      <td>False</td>\n",
       "      <td>False</td>\n",
       "      <td>NaN</td>\n",
       "      <td>False</td>\n",
       "      <td>False</td>\n",
       "      <td>False</td>\n",
       "      <td>False</td>\n",
       "    </tr>\n",
       "  </tbody>\n",
       "</table>\n",
       "</div>"
      ],
      "text/plain": [
       "   Unnamed: 0             Site name  Has Top Stories?  Has Knowledge Panel?  \\\n",
       "0           0            27east.com             False                 False   \n",
       "1           1            27east.com             False                 False   \n",
       "2           2            27east.com             False                 False   \n",
       "3           3  2HaveFunIn Minnesota             False                 False   \n",
       "4           4          417 Magazine             False                 False   \n",
       "\n",
       "  Label  Has Wikipedia?  Has Writes About?  Has Awards?  Has Reviewed Claims?  \n",
       "0   NaN           False              False        False                 False  \n",
       "1   NaN           False              False        False                 False  \n",
       "2   NaN           False              False        False                 False  \n",
       "3   NaN           False              False        False                 False  \n",
       "4   NaN           False              False        False                 False  "
      ]
     },
     "execution_count": 135,
     "metadata": {},
     "output_type": "execute_result"
    }
   ],
   "source": [
    "jan_df.head()"
   ]
  },
  {
   "cell_type": "code",
   "execution_count": 136,
   "metadata": {
    "collapsed": false,
    "deletable": true,
    "editable": true
   },
   "outputs": [
    {
     "data": {
      "text/html": [
       "<div>\n",
       "<style>\n",
       "    .dataframe thead tr:only-child th {\n",
       "        text-align: right;\n",
       "    }\n",
       "\n",
       "    .dataframe thead th {\n",
       "        text-align: left;\n",
       "    }\n",
       "\n",
       "    .dataframe tbody tr th {\n",
       "        vertical-align: top;\n",
       "    }\n",
       "</style>\n",
       "<table border=\"1\" class=\"dataframe\">\n",
       "  <thead>\n",
       "    <tr style=\"text-align: right;\">\n",
       "      <th></th>\n",
       "      <th>Unnamed: 0</th>\n",
       "      <th>Site name</th>\n",
       "      <th>Has Top Stories?</th>\n",
       "      <th>Has Knowledge Panel?</th>\n",
       "      <th>Label</th>\n",
       "      <th>Has Wikipedia?</th>\n",
       "      <th>Has Writes About?</th>\n",
       "      <th>Has Awards?</th>\n",
       "      <th>Has Reviewed Claims?</th>\n",
       "    </tr>\n",
       "  </thead>\n",
       "  <tbody>\n",
       "    <tr>\n",
       "      <th>0</th>\n",
       "      <td>0</td>\n",
       "      <td>Sand Mountain Reporter</td>\n",
       "      <td>False</td>\n",
       "      <td>False</td>\n",
       "      <td>NaN</td>\n",
       "      <td>False</td>\n",
       "      <td>False</td>\n",
       "      <td>False</td>\n",
       "      <td>False</td>\n",
       "    </tr>\n",
       "    <tr>\n",
       "      <th>1</th>\n",
       "      <td>1</td>\n",
       "      <td>Montrose Daily Press</td>\n",
       "      <td>False</td>\n",
       "      <td>False</td>\n",
       "      <td>NaN</td>\n",
       "      <td>False</td>\n",
       "      <td>False</td>\n",
       "      <td>False</td>\n",
       "      <td>False</td>\n",
       "    </tr>\n",
       "    <tr>\n",
       "      <th>2</th>\n",
       "      <td>2</td>\n",
       "      <td>Tri Lakes Tribune</td>\n",
       "      <td>False</td>\n",
       "      <td>False</td>\n",
       "      <td>NaN</td>\n",
       "      <td>False</td>\n",
       "      <td>False</td>\n",
       "      <td>False</td>\n",
       "      <td>False</td>\n",
       "    </tr>\n",
       "    <tr>\n",
       "      <th>3</th>\n",
       "      <td>3</td>\n",
       "      <td>Nederland Mountain-Ear</td>\n",
       "      <td>True</td>\n",
       "      <td>True</td>\n",
       "      <td>NaN</td>\n",
       "      <td>False</td>\n",
       "      <td>False</td>\n",
       "      <td>False</td>\n",
       "      <td>False</td>\n",
       "    </tr>\n",
       "    <tr>\n",
       "      <th>4</th>\n",
       "      <td>4</td>\n",
       "      <td>Left Hand Valley Courier</td>\n",
       "      <td>False</td>\n",
       "      <td>False</td>\n",
       "      <td>NaN</td>\n",
       "      <td>False</td>\n",
       "      <td>False</td>\n",
       "      <td>False</td>\n",
       "      <td>False</td>\n",
       "    </tr>\n",
       "  </tbody>\n",
       "</table>\n",
       "</div>"
      ],
      "text/plain": [
       "   Unnamed: 0                 Site name  Has Top Stories?  \\\n",
       "0           0    Sand Mountain Reporter             False   \n",
       "1           1      Montrose Daily Press             False   \n",
       "2           2         Tri Lakes Tribune             False   \n",
       "3           3    Nederland Mountain-Ear              True   \n",
       "4           4  Left Hand Valley Courier             False   \n",
       "\n",
       "   Has Knowledge Panel? Label  Has Wikipedia?  Has Writes About?  Has Awards?  \\\n",
       "0                 False   NaN           False              False        False   \n",
       "1                 False   NaN           False              False        False   \n",
       "2                 False   NaN           False              False        False   \n",
       "3                  True   NaN           False              False        False   \n",
       "4                 False   NaN           False              False        False   \n",
       "\n",
       "   Has Reviewed Claims?  \n",
       "0                 False  \n",
       "1                 False  \n",
       "2                 False  \n",
       "3                 False  \n",
       "4                 False  "
      ]
     },
     "execution_count": 136,
     "metadata": {},
     "output_type": "execute_result"
    }
   ],
   "source": [
    "feb_df.head()"
   ]
  },
  {
   "cell_type": "code",
   "execution_count": 139,
   "metadata": {
    "collapsed": false,
    "deletable": true,
    "editable": true
   },
   "outputs": [
    {
     "data": {
      "text/plain": [
       "Counter({False: 4513, True: 2756})"
      ]
     },
     "execution_count": 139,
     "metadata": {},
     "output_type": "execute_result"
    }
   ],
   "source": [
    "Counter(jan_df['Has Knowledge Panel?'])"
   ]
  },
  {
   "cell_type": "code",
   "execution_count": 140,
   "metadata": {
    "collapsed": false,
    "deletable": true,
    "editable": true
   },
   "outputs": [
    {
     "data": {
      "text/plain": [
       "Counter({False: 4485, True: 2784})"
      ]
     },
     "execution_count": 140,
     "metadata": {},
     "output_type": "execute_result"
    }
   ],
   "source": [
    "Counter(feb_df['Has Knowledge Panel?'])"
   ]
  },
  {
   "cell_type": "code",
   "execution_count": 142,
   "metadata": {
    "collapsed": false,
    "deletable": true,
    "editable": true
   },
   "outputs": [
    {
     "data": {
      "text/plain": [
       "Counter({False: 7114, True: 155})"
      ]
     },
     "execution_count": 142,
     "metadata": {},
     "output_type": "execute_result"
    }
   ],
   "source": [
    "Counter(feb_df['Has Writes About?'])"
   ]
  },
  {
   "cell_type": "code",
   "execution_count": 143,
   "metadata": {
    "collapsed": false,
    "deletable": true,
    "editable": true
   },
   "outputs": [
    {
     "data": {
      "text/plain": [
       "Counter({False: 7200, True: 69})"
      ]
     },
     "execution_count": 143,
     "metadata": {},
     "output_type": "execute_result"
    }
   ],
   "source": [
    "Counter(jan_df['Has Writes About?'])"
   ]
  },
  {
   "cell_type": "code",
   "execution_count": null,
   "metadata": {
    "collapsed": true,
    "deletable": true,
    "editable": true
   },
   "outputs": [],
   "source": []
  }
 ],
 "metadata": {
  "kernelspec": {
   "display_name": "Python 2",
   "language": "python",
   "name": "python2"
  },
  "language_info": {
   "codemirror_mode": {
    "name": "ipython",
    "version": 2
   },
   "file_extension": ".py",
   "mimetype": "text/x-python",
   "name": "python",
   "nbconvert_exporter": "python",
   "pygments_lexer": "ipython2",
   "version": "2.7.13"
  }
 },
 "nbformat": 4,
 "nbformat_minor": 2
}
